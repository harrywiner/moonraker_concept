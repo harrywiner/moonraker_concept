{
 "cells": [
  {
   "cell_type": "code",
   "execution_count": 1,
   "metadata": {},
   "outputs": [],
   "source": [
    "import matplotlib.pyplot as plt\n",
    "import pandas as pd\n"
   ]
  },
  {
   "cell_type": "code",
   "execution_count": 2,
   "metadata": {},
   "outputs": [],
   "source": [
    "df = pd.read_csv(\"../json/devices.csv\")"
   ]
  },
  {
   "cell_type": "code",
   "execution_count": 11,
   "metadata": {},
   "outputs": [],
   "source": [
    "latency = df[\"LatencyAvg\"][df[\"LatencyAvg\"] < 6000]"
   ]
  },
  {
   "cell_type": "code",
   "execution_count": 12,
   "metadata": {},
   "outputs": [
    {
     "data": {
      "text/plain": [
       "(array([834., 994., 312., 150., 108.,  51.,  36.,  57.,  39.,  31.,  32.,\n",
       "         30.,  20.,  16.,  10.,   0.,   7.,   4.,   5.,   1.,   2.,   2.,\n",
       "          2.,   0.,   0.,   1.,   1.,   1.,   0.,   1.]),\n",
       " array([   0.        ,   46.49565446,   92.99130892,  139.48696339,\n",
       "         185.98261785,  232.47827231,  278.97392677,  325.46958123,\n",
       "         371.96523569,  418.46089016,  464.95654462,  511.45219908,\n",
       "         557.94785354,  604.443508  ,  650.93916246,  697.43481693,\n",
       "         743.93047139,  790.42612585,  836.92178031,  883.41743477,\n",
       "         929.91308924,  976.4087437 , 1022.90439816, 1069.40005262,\n",
       "        1115.89570708, 1162.39136154, 1208.88701601, 1255.38267047,\n",
       "        1301.87832493, 1348.37397939, 1394.86963385]),\n",
       " <BarContainer object of 30 artists>)"
      ]
     },
     "execution_count": 12,
     "metadata": {},
     "output_type": "execute_result"
    },
    {
     "data": {
      "image/png": "[encoded data removed]",
      "text/plain": [
       "<Figure size 432x288 with 1 Axes>"
      ]
     },
     "metadata": {
      "needs_background": "light"
     },
     "output_type": "display_data"
    }
   ],
   "source": [
    "plt.title(\"Histogram of Device Latencies\")\n",
    "plt.xlabel(\"Latency (ms)\")\n",
    "plt.hist(latency, bins=30)"
   ]
  },
  {
   "cell_type": "code",
   "execution_count": 14,
   "metadata": {},
   "outputs": [
    {
     "data": {
      "text/plain": [
       "(array([2.559e+03, 3.800e+01, 1.900e+01, 2.100e+01, 9.000e+00, 9.000e+00,\n",
       "        5.000e+00, 4.000e+00, 5.000e+00, 2.000e+00, 0.000e+00, 5.000e+00,\n",
       "        0.000e+00, 1.000e+00, 0.000e+00, 2.000e+00, 1.000e+00, 1.000e+00,\n",
       "        0.000e+00, 0.000e+00, 0.000e+00, 0.000e+00, 0.000e+00, 0.000e+00,\n",
       "        0.000e+00, 0.000e+00, 0.000e+00, 0.000e+00, 0.000e+00, 6.700e+01]),\n",
       " array([0.        , 0.03333333, 0.06666667, 0.1       , 0.13333333,\n",
       "        0.16666667, 0.2       , 0.23333333, 0.26666667, 0.3       ,\n",
       "        0.33333333, 0.36666667, 0.4       , 0.43333333, 0.46666667,\n",
       "        0.5       , 0.53333333, 0.56666667, 0.6       , 0.63333333,\n",
       "        0.66666667, 0.7       , 0.73333333, 0.76666667, 0.8       ,\n",
       "        0.83333333, 0.86666667, 0.9       , 0.93333333, 0.96666667,\n",
       "        1.        ]),\n",
       " <BarContainer object of 30 artists>)"
      ]
     },
     "execution_count": 14,
     "metadata": {},
     "output_type": "execute_result"
    },
    {
     "data": {
      "image/png": "[encoded data removed]",
      "text/plain": [
       "<Figure size 432x288 with 1 Axes>"
      ]
     },
     "metadata": {
      "needs_background": "light"
     },
     "output_type": "display_data"
    }
   ],
   "source": [
    "plt.title(\"Histogram of Device Failure Ratios\")\n",
    "plt.xlabel(\"Failure Ratio\")\n",
    "plt.hist(df[\"FailureRate\"], bins=30, log=True)"
   ]
  }
 ],
 "metadata": {
  "kernelspec": {
   "display_name": "Python 3.10.2 64-bit",
   "language": "python",
   "name": "python3"
  },
  "language_info": {
   "codemirror_mode": {
    "name": "ipython",
    "version": 3
   },
   "file_extension": ".py",
   "mimetype": "text/x-python",
   "name": "python",
   "nbconvert_exporter": "python",
   "pygments_lexer": "ipython3",
   "version": "3.10.2"
  },
  "orig_nbformat": 4,
  "vscode": {
   "interpreter": {
    "hash": "aee8b7b246df8f9039afb4144a1f6fd8d2ca17a180786b69acc140d282b71a49"
   }
  }
 },
 "nbformat": 4,
 "nbformat_minor": 2
}
