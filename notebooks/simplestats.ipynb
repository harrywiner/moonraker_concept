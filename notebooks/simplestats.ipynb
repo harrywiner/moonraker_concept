{
 "cells": [
  {
   "cell_type": "code",
   "execution_count": null,
   "metadata": {},
   "outputs": [],
   "source": [
    "console.log(\"Hello Boozer\")"
   ]
  },
  {
   "cell_type": "code",
   "execution_count": null,
   "metadata": {},
   "outputs": [],
   "source": [
    "var ss = require('simple-statistics')\n",
    "var parse = require('csv-parse').parse;\n",
    "var fs = require('fs')"
   ]
  },
  {
   "cell_type": "code",
   "execution_count": null,
   "metadata": {},
   "outputs": [],
   "source": [
    "var rawdata = fs.readFileSync('./sample_data/iris.csv');\n",
    "var iris;\n",
    "parse(rawdata, {\n",
    "    comment: '#'\n",
    "  }, function(err, records){\n",
    "    console.error(err)\n",
    "    iris = records\n",
    "  });\n",
    "iris"
   ]
  },
  {
   "cell_type": "code",
   "execution_count": null,
   "metadata": {},
   "outputs": [],
   "source": [
    "iris"
   ]
  },
  {
   "cell_type": "code",
   "execution_count": null,
   "metadata": {},
   "outputs": [],
   "source": []
  },
  {
   "cell_type": "code",
   "execution_count": null,
   "metadata": {},
   "outputs": [],
   "source": [
    "var setosa = iris.filter(e => e[4] === \"Setosa\")\n",
    "var setosaSepalLen = setosa.map(e => parseFloat(e[0]))\n",
    "var setosaSepalWidth = setosa.map(e => parseFloat(e[1]))\n",
    "var irisSepalLen = iris.slice(1).map(e => parseFloat(e[0]))\n",
    "var irisSepalWidth = iris.slice(1).map(e => parseFloat(e[1]))\n",
    "var irisPetalLen = iris.slice(1).map(e => parseFloat(e[2]))\n",
    "var irisPetalWidth = iris.slice(1).map(e => parseFloat(e[3]))"
   ]
  },
  {
   "cell_type": "code",
   "execution_count": null,
   "metadata": {},
   "outputs": [],
   "source": [
    "console.log(\"Sepal Length Mean: \", ss.mean(setosaSepalLen))\n",
    "console.log(\"Sepal Length Variance: \", ss.variance(setosaSepalLen))\n",
    "console.log(\"Sepal Width Mean: \", ss.mean(setosaSepalWidth))\n",
    "console.log(\"Sepal Width Variance: \", ss.variance(setosaSepalWidth))"
   ]
  },
  {
   "cell_type": "code",
   "execution_count": null,
   "metadata": {},
   "outputs": [],
   "source": [
    "console.log(\"Setosa Length Width Covariance: \", ss.sampleCovariance(setosaSepalLen, setosaSepalWidth))\n",
    "console.log(\"Iris Sepal Length Width Covariance: \", ss.sampleCovariance(irisSepalWidth, irisSepalLen))\n",
    "console.log(\"Iris Petal Length Width Covariance: \", ss.sampleCovariance(irisPetalWidth, irisPetalLen))"
   ]
  },
  {
   "cell_type": "markdown",
   "metadata": {},
   "source": [
    "## Devices"
   ]
  },
  {
   "cell_type": "code",
   "execution_count": null,
   "metadata": {},
   "outputs": [],
   "source": []
  }
 ],
 "metadata": {
  "kernelspec": {
   "display_name": "JavaScript (Node.js)",
   "language": "javascript",
   "name": "javascript"
  },
  "language_info": {
   "file_extension": ".js",
   "mimetype": "application/javascript",
   "name": "javascript",
   "version": "17.6.0"
  },
  "orig_nbformat": 4
 },
 "nbformat": 4,
 "nbformat_minor": 2
}
