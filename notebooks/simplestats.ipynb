{
 "cells": [
  {
   "cell_type": "code",
   "execution_count": 1,
   "metadata": {},
   "outputs": [
    {
     "name": "stdout",
     "output_type": "stream",
     "text": [
      "Hello Boozer\n"
     ]
    }
   ],
   "source": [
    "console.log(\"Hello Boozer\")"
   ]
  },
  {
   "cell_type": "code",
   "execution_count": 11,
   "metadata": {},
   "outputs": [],
   "source": [
    "var ss = require('simple-statistics')\n",
    "var parse = require('csv-parse').parse;\n",
    "var fs = require('fs')"
   ]
  },
  {
   "cell_type": "code",
   "execution_count": null,
   "metadata": {},
   "outputs": [
    {
     "name": "stderr",
     "output_type": "stream",
     "text": [
      "undefined\n"
     ]
    }
   ],
   "source": [
    "var rawdata = fs.readFileSync('./sample_data/iris.csv');\n",
    "var iris;\n",
    "parse(rawdata, {\n",
    "    comment: '#'\n",
    "  }, function(err, records){\n",
    "    console.error(err)\n",
    "    iris = records\n",
    "  });\n",
    "iris"
   ]
  },
  {
   "cell_type": "code",
   "execution_count": 12,
   "metadata": {},
   "outputs": [
    {
     "data": {
      "text/plain": [
       "[\n",
       "  [\n",
       "    'sepal.length',\n",
       "    'sepal.width',\n",
       "    'petal.length',\n",
       "    'petal.width',\n",
       "    'variety'\n",
       "  ],\n",
       "  [ '5.1', '3.5', '1.4', '.2', 'Setosa' ],\n",
       "  [ '4.9', '3', '1.4', '.2', 'Setosa' ],\n",
       "  [ '4.7', '3.2', '1.3', '.2', 'Setosa' ],\n",
       "  [ '4.6', '3.1', '1.5', '.2', 'Setosa' ],\n",
       "  [ '5', '3.6', '1.4', '.2', 'Setosa' ],\n",
       "  [ '5.4', '3.9', '1.7', '.4', 'Setosa' ],\n",
       "  [ '4.6', '3.4', '1.4', '.3', 'Setosa' ],\n",
       "  [ '5', '3.4', '1.5', '.2', 'Setosa' ],\n",
       "  [ '4.4', '2.9', '1.4', '.2', 'Setosa' ],\n",
       "  [ '4.9', '3.1', '1.5', '.1', 'Setosa' ],\n",
       "  [ '5.4', '3.7', '1.5', '.2', 'Setosa' ],\n",
       "  [ '4.8', '3.4', '1.6', '.2', 'Setosa' ],\n",
       "  [ '4.8', '3', '1.4', '.1', 'Setosa' ],\n",
       "  [ '4.3', '3', '1.1', '.1', 'Setosa' ],\n",
       "  [ '5.8', '4', '1.2', '.2', 'Setosa' ],\n",
       "  [ '5.7', '4.4', '1.5', '.4', 'Setosa' ],\n",
       "  [ '5.4', '3.9', '1.3', '.4', 'Setosa' ],\n",
       "  [ '5.1', '3.5', '1.4', '.3', 'Setosa' ],\n",
       "  [ '5.7', '3.8', '1.7', '.3', 'Setosa' ],\n",
       "  [ '5.1', '3.8', '1.5', '.3', 'Setosa' ],\n",
       "  [ '5.4', '3.4', '1.7', '.2', 'Setosa' ],\n",
       "  [ '5.1', '3.7', '1.5', '.4', 'Setosa' ],\n",
       "  [ '4.6', '3.6', '1', '.2', 'Setosa' ],\n",
       "  [ '5.1', '3.3', '1.7', '.5', 'Setosa' ],\n",
       "  [ '4.8', '3.4', '1.9', '.2', 'Setosa' ],\n",
       "  [ '5', '3', '1.6', '.2', 'Setosa' ],\n",
       "  [ '5', '3.4', '1.6', '.4', 'Setosa' ],\n",
       "  [ '5.2', '3.5', '1.5', '.2', 'Setosa' ],\n",
       "  [ '5.2', '3.4', '1.4', '.2', 'Setosa' ],\n",
       "  [ '4.7', '3.2', '1.6', '.2', 'Setosa' ],\n",
       "  [ '4.8', '3.1', '1.6', '.2', 'Setosa' ],\n",
       "  [ '5.4', '3.4', '1.5', '.4', 'Setosa' ],\n",
       "  [ '5.2', '4.1', '1.5', '.1', 'Setosa' ],\n",
       "  [ '5.5', '4.2', '1.4', '.2', 'Setosa' ],\n",
       "  [ '4.9', '3.1', '1.5', '.2', 'Setosa' ],\n",
       "  [ '5', '3.2', '1.2', '.2', 'Setosa' ],\n",
       "  [ '5.5', '3.5', '1.3', '.2', 'Setosa' ],\n",
       "  [ '4.9', '3.6', '1.4', '.1', 'Setosa' ],\n",
       "  [ '4.4', '3', '1.3', '.2', 'Setosa' ],\n",
       "  [ '5.1', '3.4', '1.5', '.2', 'Setosa' ],\n",
       "  [ '5', '3.5', '1.3', '.3', 'Setosa' ],\n",
       "  [ '4.5', '2.3', '1.3', '.3', 'Setosa' ],\n",
       "  [ '4.4', '3.2', '1.3', '.2', 'Setosa' ],\n",
       "  [ '5', '3.5', '1.6', '.6', 'Setosa' ],\n",
       "  [ '5.1', '3.8', '1.9', '.4', 'Setosa' ],\n",
       "  [ '4.8', '3', '1.4', '.3', 'Setosa' ],\n",
       "  [ '5.1', '3.8', '1.6', '.2', 'Setosa' ],\n",
       "  [ '4.6', '3.2', '1.4', '.2', 'Setosa' ],\n",
       "  [ '5.3', '3.7', '1.5', '.2', 'Setosa' ],\n",
       "  [ '5', '3.3', '1.4', '.2', 'Setosa' ],\n",
       "  [ '7', '3.2', '4.7', '1.4', 'Versicolor' ],\n",
       "  [ '6.4', '3.2', '4.5', '1.5', 'Versicolor' ],\n",
       "  [ '6.9', '3.1', '4.9', '1.5', 'Versicolor' ],\n",
       "  [ '5.5', '2.3', '4', '1.3', 'Versicolor' ],\n",
       "  [ '6.5', '2.8', '4.6', '1.5', 'Versicolor' ],\n",
       "  [ '5.7', '2.8', '4.5', '1.3', 'Versicolor' ],\n",
       "  [ '6.3', '3.3', '4.7', '1.6', 'Versicolor' ],\n",
       "  [ '4.9', '2.4', '3.3', '1', 'Versicolor' ],\n",
       "  [ '6.6', '2.9', '4.6', '1.3', 'Versicolor' ],\n",
       "  [ '5.2', '2.7', '3.9', '1.4', 'Versicolor' ],\n",
       "  [ '5', '2', '3.5', '1', 'Versicolor' ],\n",
       "  [ '5.9', '3', '4.2', '1.5', 'Versicolor' ],\n",
       "  [ '6', '2.2', '4', '1', 'Versicolor' ],\n",
       "  [ '6.1', '2.9', '4.7', '1.4', 'Versicolor' ],\n",
       "  [ '5.6', '2.9', '3.6', '1.3', 'Versicolor' ],\n",
       "  [ '6.7', '3.1', '4.4', '1.4', 'Versicolor' ],\n",
       "  [ '5.6', '3', '4.5', '1.5', 'Versicolor' ],\n",
       "  [ '5.8', '2.7', '4.1', '1', 'Versicolor' ],\n",
       "  [ '6.2', '2.2', '4.5', '1.5', 'Versicolor' ],\n",
       "  [ '5.6', '2.5', '3.9', '1.1', 'Versicolor' ],\n",
       "  [ '5.9', '3.2', '4.8', '1.8', 'Versicolor' ],\n",
       "  [ '6.1', '2.8', '4', '1.3', 'Versicolor' ],\n",
       "  [ '6.3', '2.5', '4.9', '1.5', 'Versicolor' ],\n",
       "  [ '6.1', '2.8', '4.7', '1.2', 'Versicolor' ],\n",
       "  [ '6.4', '2.9', '4.3', '1.3', 'Versicolor' ],\n",
       "  [ '6.6', '3', '4.4', '1.4', 'Versicolor' ],\n",
       "  [ '6.8', '2.8', '4.8', '1.4', 'Versicolor' ],\n",
       "  [ '6.7', '3', '5', '1.7', 'Versicolor' ],\n",
       "  [ '6', '2.9', '4.5', '1.5', 'Versicolor' ],\n",
       "  [ '5.7', '2.6', '3.5', '1', 'Versicolor' ],\n",
       "  [ '5.5', '2.4', '3.8', '1.1', 'Versicolor' ],\n",
       "  [ '5.5', '2.4', '3.7', '1', 'Versicolor' ],\n",
       "  [ '5.8', '2.7', '3.9', '1.2', 'Versicolor' ],\n",
       "  [ '6', '2.7', '5.1', '1.6', 'Versicolor' ],\n",
       "  [ '5.4', '3', '4.5', '1.5', 'Versicolor' ],\n",
       "  [ '6', '3.4', '4.5', '1.6', 'Versicolor' ],\n",
       "  [ '6.7', '3.1', '4.7', '1.5', 'Versicolor' ],\n",
       "  [ '6.3', '2.3', '4.4', '1.3', 'Versicolor' ],\n",
       "  [ '5.6', '3', '4.1', '1.3', 'Versicolor' ],\n",
       "  [ '5.5', '2.5', '4', '1.3', 'Versicolor' ],\n",
       "  [ '5.5', '2.6', '4.4', '1.2', 'Versicolor' ],\n",
       "  [ '6.1', '3', '4.6', '1.4', 'Versicolor' ],\n",
       "  [ '5.8', '2.6', '4', '1.2', 'Versicolor' ],\n",
       "  [ '5', '2.3', '3.3', '1', 'Versicolor' ],\n",
       "  [ '5.6', '2.7', '4.2', '1.3', 'Versicolor' ],\n",
       "  [ '5.7', '3', '4.2', '1.2', 'Versicolor' ],\n",
       "  [ '5.7', '2.9', '4.2', '1.3', 'Versicolor' ],\n",
       "  [ '6.2', '2.9', '4.3', '1.3', 'Versicolor' ],\n",
       "  [ '5.1', '2.5', '3', '1.1', 'Versicolor' ],\n",
       "  ... 51 more items\n",
       "]"
      ]
     },
     "execution_count": 12,
     "metadata": {},
     "output_type": "execute_result"
    }
   ],
   "source": [
    "iris"
   ]
  },
  {
   "cell_type": "code",
   "execution_count": 18,
   "metadata": {},
   "outputs": [
    {
     "data": {
      "text/plain": [
       "[\n",
       "  '5.1', '4.9', '4.7', '4.6', '5',   '5.4',\n",
       "  '4.6', '5',   '4.4', '4.9', '5.4', '4.8',\n",
       "  '4.8', '4.3', '5.8', '5.7', '5.4', '5.1',\n",
       "  '5.7', '5.1', '5.4', '5.1', '4.6', '5.1',\n",
       "  '4.8', '5',   '5',   '5.2', '5.2', '4.7',\n",
       "  '4.8', '5.4', '5.2', '5.5', '4.9', '5',\n",
       "  '5.5', '4.9', '4.4', '5.1', '5',   '4.5',\n",
       "  '4.4', '5',   '5.1', '4.8', '5.1', '4.6',\n",
       "  '5.3', '5'\n",
       "]"
      ]
     },
     "execution_count": 18,
     "metadata": {},
     "output_type": "execute_result"
    }
   ],
   "source": []
  },
  {
   "cell_type": "code",
   "execution_count": 33,
   "metadata": {},
   "outputs": [],
   "source": [
    "var setosa = iris.filter(e => e[4] === \"Setosa\")\n",
    "var setosaSepalLen = setosa.map(e => parseFloat(e[0]))\n",
    "var setosaSepalWidth = setosa.map(e => parseFloat(e[1]))\n",
    "var irisSepalLen = iris.slice(1).map(e => parseFloat(e[0]))\n",
    "var irisSepalWidth = iris.slice(1).map(e => parseFloat(e[1]))\n",
    "var irisPetalLen = iris.slice(1).map(e => parseFloat(e[2]))\n",
    "var irisPetalWidth = iris.slice(1).map(e => parseFloat(e[3]))"
   ]
  },
  {
   "cell_type": "code",
   "execution_count": 22,
   "metadata": {},
   "outputs": [
    {
     "name": "stdout",
     "output_type": "stream",
     "text": [
      "Sepal Length Mean:  4.6\n",
      "Sepal Length Variance:  0.23999999999999988\n",
      "Sepal Width Mean:  3.04\n",
      "Sepal Width Variance:  0.11839999999999988\n"
     ]
    }
   ],
   "source": [
    "console.log(\"Sepal Length Mean: \", ss.mean(setosaSepalLen))\n",
    "console.log(\"Sepal Length Variance: \", ss.variance(setosaSepalLen))\n",
    "console.log(\"Sepal Width Mean: \", ss.mean(setosaSepalWidth))\n",
    "console.log(\"Sepal Width Variance: \", ss.variance(setosaSepalWidth))"
   ]
  },
  {
   "cell_type": "code",
   "execution_count": 34,
   "metadata": {},
   "outputs": [
    {
     "name": "stdout",
     "output_type": "stream",
     "text": [
      "Setosa Length Width Covariance:  0.09921632653061224\n",
      "Iris Sepal Length Width Covariance:  -0.04243400447427291\n",
      "Iris Petal Length Width Covariance:  1.2956093959731543\n"
     ]
    }
   ],
   "source": [
    "console.log(\"Setosa Length Width Covariance: \", ss.sampleCovariance(setosaSepalLen, setosaSepalWidth))\n",
    "console.log(\"Iris Sepal Length Width Covariance: \", ss.sampleCovariance(irisSepalWidth, irisSepalLen))\n",
    "console.log(\"Iris Petal Length Width Covariance: \", ss.sampleCovariance(irisPetalWidth, irisPetalLen))"
   ]
  },
  {
   "cell_type": "code",
   "execution_count": null,
   "metadata": {},
   "outputs": [],
   "source": []
  }
 ],
 "metadata": {
  "kernelspec": {
   "display_name": "JavaScript (Node.js)",
   "language": "javascript",
   "name": "javascript"
  },
  "language_info": {
   "file_extension": ".js",
   "mimetype": "application/javascript",
   "name": "javascript",
   "version": "17.6.0"
  },
  "orig_nbformat": 4
 },
 "nbformat": 4,
 "nbformat_minor": 2
}
