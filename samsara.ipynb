{
 "cells": [
  {
   "cell_type": "code",
   "execution_count": 1,
   "metadata": {},
   "outputs": [
    {
     "name": "stdout",
     "output_type": "stream",
     "text": [
      "Hello Boozer\n"
     ]
    }
   ],
   "source": [
    "console.log(\"Hello Boozer\")"
   ]
  },
  {
   "cell_type": "code",
   "execution_count": 1,
   "metadata": {},
   "outputs": [
    {
     "data": {
      "text/plain": [
       "Promise { <pending> }"
      ]
     },
     "execution_count": 1,
     "metadata": {},
     "output_type": "execute_result"
    },
    {
     "name": "stderr",
     "output_type": "stream",
     "text": [
      "(node:20081) Warning: Setting the NODE_TLS_REJECT_UNAUTHORIZED environment variable to '0' makes TLS connections and HTTPS requests insecure by disabling certificate verification.\n",
      "(Use `node --trace-warnings ...` to show where the warning was created)\n"
     ]
    },
    {
     "name": "stdout",
     "output_type": "stream",
     "text": [
      "{\n",
      "  data: [\n",
      "    { id: '281474980259435', name: 'GFZ5-ETG-GAF', locations: [Array] },\n",
      "    { id: '281474980259284', name: 'GFS6-X3B-248', locations: [Array] },\n",
      "    { id: '281474980259719', name: 'GHN5-HEB-DV5', locations: [Array] },\n",
      "    { id: '281474980259708', name: 'G46E-BRE-B6U', locations: [Array] },\n",
      "    { id: '281474980259684', name: 'GU2H-83G-KZF', locations: [Array] },\n",
      "    { id: '281474980259661', name: 'GZ98-ZP8-HZ7', locations: [Array] },\n",
      "    { id: '281474980259657', name: 'GNMA-AMF-P5S', locations: [Array] },\n",
      "    { id: '281474980259280', name: 'GEBF-5HR-S43', locations: [Array] },\n",
      "    { id: '281474980259744', name: 'G5M2-MRR-BB8', locations: [Array] },\n",
      "    { id: '281474980259815', name: 'GCMB-XVC-5FC', locations: [Array] },\n",
      "    { id: '281474980259614', name: 'G9MV-TGG-ZFB', locations: [Array] },\n",
      "    { id: '281474980259585', name: 'GTKJ-467-XHH', locations: [Array] },\n",
      "    { id: '281474980259255', name: 'G3RY-X5S-E9N', locations: [Array] },\n",
      "    { id: '281474980259583', name: 'GMFM-PHE-F82', locations: [Array] },\n",
      "    { id: '281474980259257', name: 'GB5T-ZD8-2N5', locations: [Array] },\n",
      "    { id: '281474980259258', name: 'GB74-6M3-TTR', locations: [Array] },\n",
      "    { id: '281474980259581', name: 'GHXM-G4W-EY5', locations: [Array] },\n",
      "    { id: '281474980259267', name: 'GBVM-6HU-RV6', locations: [Array] },\n",
      "    { id: '281474980259268', name: 'GBX8-P7G-7ST', locations: [Array] },\n",
      "    { id: '281474980259269', name: 'GC6V-FBM-7FS', locations: [Array] },\n",
      "    { id: '281474980259270', name: 'GDNM-4J9-XC8', locations: [Array] },\n",
      "    { id: '281474980259576', name: 'G4KE-35N-BVB', locations: [Array] },\n",
      "    { id: '281474980259272', name: 'GG34-4JG-7FJ', locations: [Array] },\n",
      "    { id: '281474980259568', name: 'GPW7-3F2-24X', locations: [Array] },\n",
      "    { id: '281474980259563', name: 'GE7J-4GJ-S6V', locations: [Array] },\n",
      "    { id: '281474980259275', name: 'G64Y-39F-A8T', locations: [Array] },\n",
      "    { id: '281474980259276', name: 'G7RK-KPS-MPP', locations: [Array] },\n",
      "    { id: '281474980259277', name: 'G8U3-DCJ-SHM', locations: [Array] },\n",
      "    { id: '281474980259278', name: 'G97G-4D3-JBY', locations: [Array] },\n",
      "    { id: '281474980259279', name: 'G97V-S6P-M42', locations: [Array] },\n",
      "    { id: '281474980259561', name: 'G8DF-JFA-7YC', locations: [Array] },\n",
      "    { id: '281474980259281', name: 'GF2C-2CK-D6J', locations: [Array] },\n",
      "    { id: '281474980259560', name: 'G2J8-AF2-7YN', locations: [Array] },\n",
      "    { id: '281474980259820', name: 'GCU7-YCA-4VR', locations: [Array] },\n",
      "    { id: '281474980259232', name: '1LS01478', locations: [Array] },\n",
      "    { id: '281474980259238', name: '1LS01479', locations: [Array] },\n",
      "    { id: '281474980259856', name: '5YS10448', locations: [Array] },\n",
      "    { id: '281474982216853', name: '8E11127', locations: [Array] },\n",
      "    { id: '281474980259857', name: '9ZR02010', locations: [Array] },\n",
      "    { id: '281474980259271', name: '9ZR02159', locations: [Array] },\n",
      "    { id: '281474982173731', name: '28B10076', locations: [Array] },\n",
      "    { id: '281474980259810', name: '28B10153', locations: [Array] },\n",
      "    { id: '281474982216653', name: '28B10172', locations: [Array] },\n",
      "    { id: '281474982173636', name: '28B10181', locations: [Array] },\n",
      "    { id: '281474982115653', name: '28B10200', locations: [Array] },\n",
      "    { id: '281474982173634', name: '28B10210', locations: [Array] },\n",
      "    { id: '281474982173638', name: '28B10219', locations: [Array] },\n",
      "    { id: '281474982216585', name: '28B10427', locations: [Array] },\n",
      "    { id: '281474980259849', name: '28B10502', locations: [Array] },\n",
      "    { id: '281474982179604', name: '28B10617', locations: [Array] },\n",
      "    { id: '281474980259299', name: '28B10782', locations: [Array] },\n",
      "    { id: '281474980259618', name: '28B10792', locations: [Array] },\n",
      "    { id: '281474980259620', name: '28B10793', locations: [Array] },\n",
      "    { id: '281474980259307', name: '28B10825', locations: [Array] },\n",
      "    { id: '281474980259256', name: '28B10903', locations: [Array] },\n",
      "    { id: '281474980259612', name: '28B10904', locations: [Array] },\n",
      "    { id: '281474980259783', name: '28B10905', locations: [Array] },\n",
      "    { id: '281474980259622', name: '28B10906', locations: [Array] },\n",
      "    { id: '281474980259302', name: '28B10932', locations: [Array] },\n",
      "    { id: '281474980259850', name: '28B10934', locations: [Array] },\n",
      "    { id: '281474980259852', name: '38E11146', locations: [Array] },\n",
      "    { id: '281474980259564', name: '45-3', locations: [Array] },\n",
      "    { id: '281474980259652', name: '45-5', locations: [Array] },\n",
      "    { id: '281474980259656', name: '45-7', locations: [Array] },\n",
      "    { id: '281474980259676', name: '45-8', locations: [Array] },\n",
      "    { id: '281474980259678', name: '45-12', locations: [Array] },\n",
      "    { id: '281474980259584', name: '45-13', locations: [Array] },\n",
      "    { id: '281474980259623', name: '68B10271', locations: [Array] },\n",
      "    { id: '281474980259308', name: '72B120069', locations: [Array] },\n",
      "    { id: '281474982173758', name: '72B120079', locations: [Array] },\n",
      "    { id: '281474980259855', name: '78C10208', locations: [Array] },\n",
      "    { id: '281474980259770', name: '78C10218', locations: [Array] },\n",
      "    { id: '281474980259651', name: '125-4', locations: [Array] },\n",
      "    { id: '281474980259709', name: '150-2', locations: [Array] },\n",
      "    { id: '281474980259654', name: '150-4', locations: [Array] },\n",
      "    { id: '281474980259680', name: '150-5', locations: [Array] },\n",
      "    { id: '281474980259713', name: '150-6', locations: [Array] },\n",
      "    { id: '281474980259716', name: '150-8', locations: [Array] },\n",
      "    { id: '281474980259565', name: '150-9', locations: [Array] },\n",
      "    { id: '281474980259660', name: '180-2', locations: [Array] },\n",
      "    { id: '281474980259571', name: '180-4', locations: [Array] },\n",
      "    { id: '281474980259681', name: '180-5', locations: [Array] },\n",
      "    { id: '281474980259566', name: '180-6', locations: [Array] },\n",
      "    { id: '281474980259469', name: '1439', locations: [Array] },\n",
      "    { id: '281474980259468', name: '1441', locations: [Array] },\n",
      "    { id: '281474980259464', name: '1443', locations: [Array] },\n",
      "    { id: '281474980259743', name: '1602', locations: [Array] },\n",
      "    { id: '281474980259361', name: '1603', locations: [Array] },\n",
      "    { id: '281474980259461', name: '1610', locations: [Array] },\n",
      "    { id: '281474980259739', name: '1629', locations: [Array] },\n",
      "    { id: '281474980259741', name: '1630', locations: [Array] },\n",
      "    { id: '281474980259352', name: '1646', locations: [Array] },\n",
      "    { id: '281474980259289', name: '1728B10313', locations: [Array] },\n",
      "    { id: '281474980259818', name: '1728B10361', locations: [Array] },\n",
      "    { id: '281474980259465', name: '1801', locations: [Array] },\n",
      "    { id: '281474980259466', name: '1840', locations: [Array] },\n",
      "    { id: '281474980259740', name: '3009', locations: [Array] },\n",
      "    { id: '281474980259736', name: '3014', locations: [Array] },\n",
      "    { id: '281474980259732', name: '3045', locations: [Array] },\n",
      "    { id: '281474980259735', name: '5031', locations: [Array] },\n",
      "    ... 90 more items\n",
      "  ],\n",
      "  pagination: {\n",
      "    endCursor: '52775e8c-1c85-4d4a-bebf-90a9c7dabfae',\n",
      "    hasNextPage: false\n",
      "  }\n",
      "}\n"
     ]
    }
   ],
   "source": [
    "const sdk = require('api')('@samsara-dev-rel/v2019.01.01#fvyb4c14l7jh66qd');\n",
    "\n",
    "sdk.auth('samsara_api_GatoD53bpvG52BQ5An7WyRuG233i3b');\n",
    "sdk.getEquipmentLocationsFeed()\n",
    "    .then(res => console.log(res))\n",
    "    .catch(err => console.error(err));"
   ]
  }
 ],
 "metadata": {
  "kernelspec": {
   "display_name": "JavaScript (Node.js)",
   "language": "javascript",
   "name": "javascript"
  },
  "language_info": {
   "file_extension": ".js",
   "mimetype": "application/javascript",
   "name": "javascript",
   "version": "17.6.0"
  },
  "orig_nbformat": 4
 },
 "nbformat": 4,
 "nbformat_minor": 2
}
